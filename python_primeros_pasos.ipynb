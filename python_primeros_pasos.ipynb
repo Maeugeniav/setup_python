{
 "cells": [
  {
   "cell_type": "markdown",
   "metadata": {},
   "source": [
    "# Primeros pasos en python"
   ]
  },
  {
   "cell_type": "markdown",
   "metadata": {},
   "source": [
    "En este jupyter notebook se abordan las asignaciones para los primeros pasos en python. Se observarán las funciones básicas, familiarización con el sintaxis y práctica necesaria para poder continuar con las asignaciones de futuras clases. Aprender esta herramienta será util para desarrollar distintas aplicaciones de data science y analisis de datos."
   ]
  },
  {
   "cell_type": "markdown",
   "metadata": {},
   "source": [
    "**Objetivo de este codigo:** lo importante es poder ejecutarlo, tratar de leer el codigo e interpretar la sintaxis. Observar detalladamente el paso a paso para ganar nociones de como se escribe codigo en python. Mas adelante se encontrarán con codigos mas largos y complejos aunque la sintaxis seguira siendo la misma. Asuman esta etapa como \"aprender un idioma nuevo\". Inicialmente sera un poco confuso, aunque a medida que pase el tiempo lo adoptaran y se sentiran mas comodos. "
   ]
  },
  {
   "cell_type": "markdown",
   "metadata": {},
   "source": [
    "**Como ejecutar este archivo:** La manera en que se ejecuta cada celda de Jupyter es mediante \"Shift + Enter\" o con el boton de \"play\" que se encuentra en la barra superior. Una vez ejecutado todo el codigo, sientanse libres de modificar algunas variables a su gusto para ir obteniendo distintos resultados. Por ejemplo, crear matrices o vectores de distintas dimensiones, etc."
   ]
  },
  {
   "cell_type": "markdown",
   "metadata": {},
   "source": [
    "# Primeros pasos\n",
    "** Imprimir texto en pantalla (hola mundo) **"
   ]
  },
  {
   "cell_type": "code",
   "execution_count": 4,
   "metadata": {
    "collapsed": false
   },
   "outputs": [
    {
     "name": "stdout",
     "output_type": "stream",
     "text": [
      "Hola, Soy Martín y estoy probando un script para el curso de ClusterAI 2019 en UTN FRBA.\n"
     ]
    }
   ],
   "source": [
    "print(\"Hola, Soy Martín y estoy probando un script para el curso de ClusterAI 2019 en UTN FRBA.\")"
   ]
  },
  {
   "cell_type": "markdown",
   "metadata": {},
   "source": [
    "** Operaciones básicas con enteros **\n",
    "Antes de utilizar cualquier librería, python ya permite dentro de su sintaxis realizar algunas operaciones matematias con integers (enteros) o floats (reales)."
   ]
  },
  {
   "cell_type": "code",
   "execution_count": 5,
   "metadata": {
    "collapsed": false
   },
   "outputs": [
    {
     "data": {
      "text/plain": [
       "80"
      ]
     },
     "execution_count": 5,
     "metadata": {},
     "output_type": "execute_result"
    }
   ],
   "source": [
    "(5+3)*10"
   ]
  },
  {
   "cell_type": "markdown",
   "metadata": {},
   "source": [
    "A la operación anterior podría guardarla en una variable (llamada \"cuenta\"), para que quede en memoria y asi poder acceder a su contenido en el futuro."
   ]
  },
  {
   "cell_type": "code",
   "execution_count": 6,
   "metadata": {
    "collapsed": true
   },
   "outputs": [],
   "source": [
    "# guardamos la operacion en la variable \"cuenta\"\n",
    "cuenta = (5+3)*10"
   ]
  },
  {
   "cell_type": "code",
   "execution_count": 7,
   "metadata": {
    "collapsed": false
   },
   "outputs": [
    {
     "data": {
      "text/plain": [
       "80"
      ]
     },
     "execution_count": 7,
     "metadata": {},
     "output_type": "execute_result"
    }
   ],
   "source": [
    "# accedemos al interior de la variable \"cuenta\" para asegurarnos que se guardo bien los datos del resultado\n",
    "cuenta"
   ]
  },
  {
   "cell_type": "code",
   "execution_count": 8,
   "metadata": {
    "collapsed": false
   },
   "outputs": [
    {
     "data": {
      "text/plain": [
       "int"
      ]
     },
     "execution_count": 8,
     "metadata": {},
     "output_type": "execute_result"
    }
   ],
   "source": [
    "# el comando \"type\" nos permite poder saber que tipo de formato de dato esta guardado en la variable en cuestion\n",
    "type(cuenta)"
   ]
  },
  {
   "cell_type": "markdown",
   "metadata": {},
   "source": [
    "## Librería Numpy"
   ]
  },
  {
   "cell_type": "markdown",
   "metadata": {},
   "source": [
    "**Importar librerias:**\n",
    "Python posee ya muchas librerías con funciones específicas según la tarea que querramos realizar. Existen librerías de cálculo, de visulización, de estadística, procesamiento de señales, de algebra lineal y de redes neuronales artificiales (entre muchas mas). Nuestro primer paso será importar **Numpy**, una importante librería que nos permitirá realizar operaciones numéricas con matrices, vectores y escalares."
   ]
  },
  {
   "cell_type": "code",
   "execution_count": 9,
   "metadata": {
    "collapsed": true
   },
   "outputs": [],
   "source": [
    "# importamos la librería Numpy\n",
    "import numpy as np"
   ]
  },
  {
   "cell_type": "markdown",
   "metadata": {},
   "source": [
    "**Primeras operaciones con Numpy**:\n",
    "Con \"np. + comando\" de numpy podremos realizar muchas operaciones. Como crear una matriz de 2x2 de ceros."
   ]
  },
  {
   "cell_type": "code",
   "execution_count": 10,
   "metadata": {
    "collapsed": false
   },
   "outputs": [],
   "source": [
    "# creamos la matriz de 2x2 llena de ceros con el comando np.zeros()\n",
    "nula = np.zeros((2,2))"
   ]
  },
  {
   "cell_type": "code",
   "execution_count": 11,
   "metadata": {
    "collapsed": false
   },
   "outputs": [
    {
     "data": {
      "text/plain": [
       "array([[0., 0.],\n",
       "       [0., 0.]])"
      ]
     },
     "execution_count": 11,
     "metadata": {},
     "output_type": "execute_result"
    }
   ],
   "source": [
    "# La visualizamos en pantalla\n",
    "nula"
   ]
  },
  {
   "cell_type": "code",
   "execution_count": 12,
   "metadata": {
    "collapsed": false
   },
   "outputs": [
    {
     "data": {
      "text/plain": [
       "numpy.ndarray"
      ]
     },
     "execution_count": 12,
     "metadata": {},
     "output_type": "execute_result"
    }
   ],
   "source": [
    "# con type nos fijamos que tipo de variable es \"nula\"\n",
    "# python permite muchos tipos de variables, en este caso es un numpy array\n",
    "type(nula)"
   ]
  },
  {
   "cell_type": "code",
   "execution_count": 13,
   "metadata": {
    "collapsed": false
   },
   "outputs": [
    {
     "data": {
      "text/plain": [
       "(2, 2)"
      ]
     },
     "execution_count": 13,
     "metadata": {},
     "output_type": "execute_result"
    }
   ],
   "source": [
    "# con np.shape() podremos saber las dimensiones de la variable en cuestion\n",
    "np.shape(nula)"
   ]
  },
  {
   "cell_type": "markdown",
   "metadata": {},
   "source": [
    "Las posiciones en python comienzan en 0. Entonces si tenemos un elemento de 4 posiciones, la primera sera la posicion 0 y la ultima posicion sera la 3. Cuando tenemos matrices (arrays)"
   ]
  },
  {
   "cell_type": "code",
   "execution_count": 14,
   "metadata": {
    "collapsed": false
   },
   "outputs": [
    {
     "data": {
      "text/plain": [
       "0.0"
      ]
     },
     "execution_count": 14,
     "metadata": {},
     "output_type": "execute_result"
    }
   ],
   "source": [
    "# si quisieramos acceder al elemento 0,0 de nula \n",
    "nula[0,0]"
   ]
  },
  {
   "cell_type": "markdown",
   "metadata": {},
   "source": [
    "Una vez declarada en python, podemos modificar alguno de los elementos de la matriz (numpy array) nula. "
   ]
  },
  {
   "cell_type": "code",
   "execution_count": 15,
   "metadata": {
    "collapsed": false
   },
   "outputs": [],
   "source": [
    "# por ejemplo el de la posicion 1,0\n",
    "nula[1,0] = 4\n",
    "\n",
    "# y tambien modificamos la posicion 0,1\n",
    "nula[0,1] = 10"
   ]
  },
  {
   "cell_type": "code",
   "execution_count": 16,
   "metadata": {
    "collapsed": false
   },
   "outputs": [
    {
     "data": {
      "text/plain": [
       "array([[ 0., 10.],\n",
       "       [ 4.,  0.]])"
      ]
     },
     "execution_count": 16,
     "metadata": {},
     "output_type": "execute_result"
    }
   ],
   "source": [
    "# imprimimos la matriz nula en pantalla para observar la modificacion realizada\n",
    "nula"
   ]
  },
  {
   "cell_type": "markdown",
   "metadata": {},
   "source": [
    "podriamos realizar operaciones logicas y obtener resultados \"booleanos\" (True or False). Por ejemplo, preguntamos que elementos son mayores a cero."
   ]
  },
  {
   "cell_type": "code",
   "execution_count": 17,
   "metadata": {
    "collapsed": false
   },
   "outputs": [
    {
     "data": {
      "text/plain": [
       "array([[False,  True],\n",
       "       [ True, False]])"
      ]
     },
     "execution_count": 17,
     "metadata": {},
     "output_type": "execute_result"
    }
   ],
   "source": [
    "nula > 0"
   ]
  },
  {
   "cell_type": "markdown",
   "metadata": {},
   "source": [
    "Calculamos raiz cuadrada de todos los elementos de la matriz nula con el comando np.sqrt(). SQRT significa square root en ingles."
   ]
  },
  {
   "cell_type": "code",
   "execution_count": 18,
   "metadata": {
    "collapsed": false
   },
   "outputs": [
    {
     "data": {
      "text/plain": [
       "array([[0.        , 3.16227766],\n",
       "       [2.        , 0.        ]])"
      ]
     },
     "execution_count": 18,
     "metadata": {},
     "output_type": "execute_result"
    }
   ],
   "source": [
    "# podriamos calcular la raiz cuadrada de todos los elementos de nula con \"np.sqrt()\"\n",
    "raiz_cuad = np.sqrt(nula)\n",
    "raiz_cuad"
   ]
  },
  {
   "cell_type": "markdown",
   "metadata": {},
   "source": [
    "con el comando de python de doble * se realiza el cuadrado del elemento en cuestion"
   ]
  },
  {
   "cell_type": "code",
   "execution_count": 19,
   "metadata": {
    "collapsed": false
   },
   "outputs": [
    {
     "data": {
      "text/plain": [
       "array([[ 0., 10.],\n",
       "       [ 4.,  0.]])"
      ]
     },
     "execution_count": 19,
     "metadata": {},
     "output_type": "execute_result"
    }
   ],
   "source": [
    "# observamos que si a raiz_cuad la afectamos por el cuadrado obtenemos nuevamente nula\n",
    "raiz_cuad**2"
   ]
  },
  {
   "cell_type": "markdown",
   "metadata": {},
   "source": [
    "Numpy tambien nos permite crear matrices de la dimension que querramos con numeros aleatorios mediante el comando \"np.random.rand()\"."
   ]
  },
  {
   "cell_type": "code",
   "execution_count": 20,
   "metadata": {
    "collapsed": false
   },
   "outputs": [
    {
     "data": {
      "text/plain": [
       "array([[0.66251384, 0.45884309, 0.58458879],\n",
       "       [0.71940991, 0.9598339 , 0.75811281],\n",
       "       [0.10217736, 0.99973179, 0.21609786]])"
      ]
     },
     "execution_count": 20,
     "metadata": {},
     "output_type": "execute_result"
    }
   ],
   "source": [
    "# creamos un array de 3x3 con todos sus elementos completados nros aleatorios de una distribución uniforme \n",
    "array_uniform = np.random.rand(3,3)\n",
    "array_uniform"
   ]
  },
  {
   "cell_type": "markdown",
   "metadata": {},
   "source": [
    "Podemos tambien crear vectores, solamente especificando una sola dimension."
   ]
  },
  {
   "cell_type": "code",
   "execution_count": 21,
   "metadata": {
    "collapsed": false
   },
   "outputs": [
    {
     "data": {
      "text/plain": [
       "array([0.2208875 , 0.05335773, 0.20073811, 0.92948276, 0.53339649,\n",
       "       0.07182488, 0.76124003, 0.01401814, 0.17859628, 0.27990503])"
      ]
     },
     "execution_count": 21,
     "metadata": {},
     "output_type": "execute_result"
    }
   ],
   "source": [
    "# generamos un vector de 10 posiciones completados desde nros. aleatorios de una dist. uniforme\n",
    "vector_uniform = np.random.rand(10)\n",
    "vector_uniform"
   ]
  },
  {
   "cell_type": "markdown",
   "metadata": {},
   "source": [
    "Trasponer un numpy array con \".T\" al final"
   ]
  },
  {
   "cell_type": "code",
   "execution_count": 22,
   "metadata": {
    "collapsed": false
   },
   "outputs": [
    {
     "data": {
      "text/plain": [
       "array([[0.66251384, 0.71940991, 0.10217736],\n",
       "       [0.45884309, 0.9598339 , 0.99973179],\n",
       "       [0.58458879, 0.75811281, 0.21609786]])"
      ]
     },
     "execution_count": 22,
     "metadata": {},
     "output_type": "execute_result"
    }
   ],
   "source": [
    "# vamos a transponer la matriz array_uniform\n",
    "array_uniform_t = array_uniform.T\n",
    "array_uniform_t"
   ]
  },
  {
   "cell_type": "markdown",
   "metadata": {},
   "source": [
    "Calcular la inversa de una matriz (en formato numpy array) con el comando np.linalg.inv()"
   ]
  },
  {
   "cell_type": "code",
   "execution_count": 23,
   "metadata": {
    "collapsed": false
   },
   "outputs": [
    {
     "data": {
      "text/plain": [
       "array([[ 14.72501615, -12.98060461,   5.70428241],\n",
       "       [  2.0864369 ,  -2.23181984,   2.18541534],\n",
       "       [-16.61488262,  16.46265797,  -8.1799871 ]])"
      ]
     },
     "execution_count": 23,
     "metadata": {},
     "output_type": "execute_result"
    }
   ],
   "source": [
    "# podemos tambien calcularle la inversa a la matriz array_uniform\n",
    "array_uniform_inv = np.linalg.inv(array_uniform)\n",
    "array_uniform_inv"
   ]
  },
  {
   "cell_type": "markdown",
   "metadata": {},
   "source": [
    "Calcular el producto de dos matrices con np.dot"
   ]
  },
  {
   "cell_type": "code",
   "execution_count": 24,
   "metadata": {
    "collapsed": false
   },
   "outputs": [
    {
     "data": {
      "text/plain": [
       "array([[ 1.00000000e+00, -6.07526289e-16, -8.19562408e-17],\n",
       "       [-6.83156734e-16,  1.00000000e+00,  2.51696894e-16],\n",
       "       [-3.20822615e-16,  3.43513077e-16,  1.00000000e+00]])"
      ]
     },
     "execution_count": 24,
     "metadata": {},
     "output_type": "execute_result"
    }
   ],
   "source": [
    "# podemos calcular el producto punto (dot product) entre array_uniform y array_uniform_inv\n",
    "array_uniform_dot = np.dot(array_uniform, array_uniform_inv)\n",
    "array_uniform_dot"
   ]
  },
  {
   "cell_type": "markdown",
   "metadata": {},
   "source": [
    "Crear una matriz con valores determinados por el usuario"
   ]
  },
  {
   "cell_type": "code",
   "execution_count": 25,
   "metadata": {
    "collapsed": false
   },
   "outputs": [
    {
     "data": {
      "text/plain": [
       "array([[ 1, -4],\n",
       "       [12,  3]])"
      ]
     },
     "execution_count": 25,
     "metadata": {},
     "output_type": "execute_result"
    }
   ],
   "source": [
    "# tambien podriamos crear una nueva matriz con datos ingresados \n",
    "a=np.array([ [1  ,-4],[12 , 3]])\n",
    "a"
   ]
  },
  {
   "cell_type": "markdown",
   "metadata": {},
   "source": [
    "## Distribuciones de probabilidad con numpy"
   ]
  },
  {
   "cell_type": "markdown",
   "metadata": {},
   "source": [
    "Generamos un vector cuyas posiciones sean numeros aleatorios provenientes de una distribucion normal con media y desvio standard determinado."
   ]
  },
  {
   "cell_type": "code",
   "execution_count": 26,
   "metadata": {
    "collapsed": true
   },
   "outputs": [],
   "source": [
    "# declaramos las variables numericas \"mu\" y \"sigma\"\n",
    "mu = 0\n",
    "sigma = 0.1 \n",
    "# con las variables declaradas generamos un vector de 1000 posiciones\n",
    "# cada posicion es un numero aleatorio extraido de una distribucion normal\n",
    "normal_sample = np.random.normal(mu, sigma, 1000)"
   ]
  },
  {
   "cell_type": "code",
   "execution_count": 27,
   "metadata": {
    "collapsed": false
   },
   "outputs": [
    {
     "data": {
      "text/plain": [
       "(1000,)"
      ]
     },
     "execution_count": 27,
     "metadata": {},
     "output_type": "execute_result"
    }
   ],
   "source": [
    "# si quisieramos ver las dimensiones del vector usamos el comando np.shape\n",
    "np.shape(normal_sample)"
   ]
  },
  {
   "cell_type": "code",
   "execution_count": 28,
   "metadata": {
    "collapsed": false
   },
   "outputs": [
    {
     "data": {
      "text/plain": [
       "numpy.ndarray"
      ]
     },
     "execution_count": 28,
     "metadata": {},
     "output_type": "execute_result"
    }
   ],
   "source": [
    "# si quisieramos saber que tipo de variable es \"normal_sample\" usamos el comando type\n",
    "type(normal_sample)"
   ]
  },
  {
   "cell_type": "code",
   "execution_count": 29,
   "metadata": {
    "collapsed": false
   },
   "outputs": [
    {
     "data": {
      "text/plain": [
       "0.02816343707359858"
      ]
     },
     "execution_count": 29,
     "metadata": {},
     "output_type": "execute_result"
    }
   ],
   "source": [
    "# si quisieramos saber el valor de la posicion 50 del vector \"normal_sample\"\n",
    "normal_sample[50]"
   ]
  },
  {
   "cell_type": "code",
   "execution_count": 30,
   "metadata": {
    "collapsed": false
   },
   "outputs": [
    {
     "data": {
      "text/plain": [
       "0.0282"
      ]
     },
     "execution_count": 30,
     "metadata": {},
     "output_type": "execute_result"
    }
   ],
   "source": [
    "# podemos redondear el valor obtenido en la celda anterior con \"np.round()\"\n",
    "# le pedimos 4 decimales\n",
    "np.round(normal_sample[50],4)"
   ]
  },
  {
   "cell_type": "code",
   "execution_count": 31,
   "metadata": {
    "collapsed": false
   },
   "outputs": [
    {
     "data": {
      "text/plain": [
       "array([ 2.95010971e-02,  7.37515466e-02, -1.29087702e-01,  4.79701062e-02,\n",
       "       -6.20074547e-03,  4.67644868e-03,  5.48785437e-02, -7.01215527e-03,\n",
       "       -7.21021727e-02, -7.94826562e-02,  3.55816137e-02,  1.84721846e-01,\n",
       "        1.42756131e-01,  1.65261104e-01,  6.14199968e-02, -1.15242129e-01,\n",
       "       -2.35121047e-02, -8.64632355e-02, -1.28841757e-01, -4.30911162e-03,\n",
       "        7.99199923e-02, -7.73379085e-02, -1.34767982e-01, -7.41364177e-02,\n",
       "        5.10211721e-02,  1.22718168e-01,  1.91176069e-03, -2.51020309e-01,\n",
       "       -1.18330092e-01, -2.39798572e-01,  1.24482869e-01,  2.92457840e-03,\n",
       "       -3.54242970e-02,  7.99439515e-02, -1.54267722e-01, -1.02739169e-01,\n",
       "        2.13416780e-01, -6.89549379e-02,  1.64881371e-02, -1.50626046e-02,\n",
       "        2.20645492e-02, -2.03216475e-01,  1.32450680e-03, -2.07730914e-01,\n",
       "       -2.91759688e-01,  1.80014731e-01, -1.41897861e-01, -5.26076707e-02,\n",
       "        2.24324799e-01,  1.54393148e-02,  2.81634371e-02,  1.56090597e-01,\n",
       "        1.23581057e-01,  9.27529763e-02, -4.56788849e-02, -1.17683248e-01,\n",
       "        3.74206193e-02, -7.07178679e-02,  1.05702342e-01, -3.10928441e-02,\n",
       "       -7.56670669e-02, -3.02219801e-03, -8.96937815e-02,  3.40314753e-02,\n",
       "        8.35351841e-02,  1.36793063e-01, -1.01277353e-01, -4.05056540e-02,\n",
       "       -1.30654635e-01, -1.38515129e-01,  1.59458321e-01,  2.14390755e-01,\n",
       "       -1.10916954e-01,  5.57032903e-02, -4.59197110e-02, -1.00565854e-01,\n",
       "        1.16789147e-02, -5.53907629e-02,  2.90426094e-02, -3.77576519e-02,\n",
       "        6.56401562e-02,  1.13158538e-03, -1.01438126e-01, -4.92470776e-03,\n",
       "       -9.04738045e-02,  2.23795759e-02,  2.72351371e-02, -6.09834212e-02,\n",
       "       -4.67134826e-03, -2.74934115e-02, -6.21743145e-02, -4.84500040e-02,\n",
       "        1.15629656e-01, -1.96811117e-01, -3.97033157e-02,  3.53790786e-02,\n",
       "        2.57487807e-02, -7.48019105e-02, -3.07428261e-02, -2.85668185e-01,\n",
       "        3.74177075e-02, -7.60743541e-03,  8.52563123e-02, -1.82311161e-01,\n",
       "       -7.31711694e-02, -1.83843521e-01,  1.15358544e-02,  4.22878954e-02,\n",
       "       -2.18390538e-01,  2.50879957e-02, -5.26576665e-02,  5.29951858e-02,\n",
       "       -1.38202859e-02,  1.55610477e-01, -5.40029838e-02,  3.92112840e-02,\n",
       "        1.37556062e-01, -4.05235765e-02,  1.00923543e-01, -4.78957591e-02,\n",
       "        5.91909822e-02, -1.81918591e-01, -8.07518758e-02,  1.06228519e-01,\n",
       "        1.01798202e-02, -6.18451415e-02,  2.59484685e-03, -8.85543460e-02,\n",
       "        1.06639024e-01, -9.03547368e-02,  5.41319857e-02, -6.74858902e-02,\n",
       "       -4.23524254e-03, -1.01309594e-01,  1.95189120e-01,  3.67622321e-02,\n",
       "        2.79309002e-03, -1.68603059e-01,  1.42967924e-01,  7.32198206e-02,\n",
       "       -2.21526098e-02,  5.03361861e-02, -1.79229496e-01,  1.24174975e-01,\n",
       "       -2.96142410e-02,  9.06277918e-02, -1.34675152e-01, -7.03507844e-02,\n",
       "       -1.02294681e-01, -3.75708657e-02,  1.35858994e-01, -8.77418071e-03,\n",
       "        1.15490575e-02, -1.32612498e-02,  1.27344831e-02,  9.37172609e-02,\n",
       "        1.33936950e-01,  9.85178746e-02,  1.07041134e-01, -7.84419267e-02,\n",
       "       -4.58089264e-02, -6.80325212e-02,  1.29561306e-01,  1.20781504e-01,\n",
       "        1.94416327e-02,  4.23608024e-04,  1.80418542e-01,  5.41568232e-02,\n",
       "        6.81935654e-02,  5.39865153e-02,  4.86600139e-02,  8.00577731e-02,\n",
       "       -9.74271959e-02, -1.59405342e-01,  3.00697787e-02, -8.64530937e-02,\n",
       "        1.70180387e-01,  8.11200505e-02, -6.51864921e-02,  1.03945013e-01,\n",
       "        1.01091715e-01, -4.44210043e-02,  8.26192399e-02,  1.20552937e-01,\n",
       "       -1.61547632e-02,  1.28040378e-01, -1.23777006e-01,  1.14638350e-01,\n",
       "        1.08783626e-01,  1.02427409e-01, -2.16027472e-01,  7.41230329e-02,\n",
       "       -3.99680144e-02, -1.40975636e-01,  1.44540188e-01, -1.17215784e-02,\n",
       "       -1.60147732e-01, -6.84091283e-02,  1.28440453e-01, -4.20249444e-02,\n",
       "        7.01446913e-02,  1.10037593e-01, -1.42958801e-02,  3.72163272e-02,\n",
       "       -5.74608273e-02, -2.37209231e-01, -1.52047576e-01,  2.15370432e-01,\n",
       "       -1.29070054e-01, -6.85534508e-02, -5.94579620e-02,  8.10021505e-02,\n",
       "       -4.91554988e-02, -5.13403156e-02, -1.00690855e-01, -6.83444042e-02,\n",
       "       -1.27142499e-01, -6.49025868e-02,  1.83982943e-01,  1.04565461e-01,\n",
       "       -1.28207242e-01, -1.69695778e-01, -4.20098692e-02,  1.35790750e-01,\n",
       "        4.28983256e-02,  9.70073802e-02, -5.05677318e-02,  5.38739302e-02,\n",
       "        5.42184167e-02,  2.95153567e-02, -1.83496565e-01, -4.39943379e-02,\n",
       "        9.77597168e-02,  7.67626746e-02, -1.61191968e-01,  8.45682248e-02,\n",
       "        6.15682813e-02,  1.06562478e-01, -6.46852266e-02,  1.58254895e-01,\n",
       "        1.07667676e-01,  8.93137490e-02,  5.13071787e-03,  1.20020460e-01,\n",
       "       -1.05202965e-01, -1.10640444e-01,  9.23724768e-03, -1.28985249e-01,\n",
       "        1.21863518e-01,  3.89946809e-02, -1.02519250e-01, -6.17268540e-02,\n",
       "        3.64339256e-02,  7.83277792e-03,  1.20787672e-01, -4.99178269e-05,\n",
       "       -5.47773385e-02,  8.37025724e-02,  2.87428787e-02,  4.46983494e-02,\n",
       "        1.06478776e-02,  8.25173993e-02,  1.44278406e-01,  8.51422588e-02,\n",
       "       -1.20873005e-01,  1.59451173e-02,  6.87007558e-02,  1.22812669e-01,\n",
       "        6.39820595e-02,  3.12736805e-01, -8.11781330e-02, -1.18730229e-01,\n",
       "        1.25395914e-02, -2.16391188e-01, -6.98881742e-02, -9.15304596e-02,\n",
       "       -8.89550887e-02, -9.00576851e-03,  7.05977956e-03, -1.20364681e-03,\n",
       "        1.04671632e-01, -4.97933266e-02,  8.27230304e-02,  2.06457151e-01,\n",
       "        1.61829542e-02,  4.63524311e-02,  1.76203004e-01, -8.39917699e-02,\n",
       "        1.27564290e-01, -1.18991295e-01, -8.79534540e-03, -2.87730940e-02,\n",
       "       -4.41551158e-02, -3.76784514e-02, -7.45048446e-02,  6.81326240e-05,\n",
       "       -1.08513844e-01, -6.84291273e-02,  4.21257446e-02, -1.35273118e-01,\n",
       "        3.95533802e-02,  2.05753609e-02, -6.58125830e-03,  9.26894602e-02,\n",
       "       -8.82267440e-03, -3.73181093e-02,  5.12948622e-02,  2.92802595e-02,\n",
       "       -1.66831775e-03, -2.25695501e-02, -6.21633189e-02,  2.24469642e-02,\n",
       "       -3.31779412e-02,  9.25191573e-02,  6.47098414e-02,  1.46661090e-01,\n",
       "       -3.38553189e-02,  9.83020127e-02, -8.84514751e-02, -7.53647454e-02,\n",
       "        9.92557502e-02, -1.68718957e-02,  1.50506472e-01, -1.30953868e-01,\n",
       "        2.16366792e-01,  1.86177342e-01,  6.82969205e-02, -1.36894664e-01,\n",
       "        1.01825839e-01, -3.81526868e-02, -7.29603073e-02,  6.37612259e-02,\n",
       "       -2.30597122e-01, -1.81250353e-01, -1.01004161e-01, -9.48126893e-02,\n",
       "        5.54290042e-02,  1.76766538e-02,  1.38257479e-01,  1.04900261e-01,\n",
       "       -6.21511158e-02,  1.07971043e-01,  3.51254793e-02, -6.84499543e-02,\n",
       "       -2.20086522e-02, -6.51418056e-02,  1.25145859e-02,  3.05016658e-02,\n",
       "        4.23668888e-02, -5.40172491e-02, -6.33969256e-02,  4.21160937e-02,\n",
       "        1.04823332e-01,  2.98512771e-02, -7.26002545e-03, -3.06393064e-02,\n",
       "       -9.60589326e-02, -4.89008842e-02, -5.57872782e-02,  1.44663429e-01,\n",
       "        1.20498588e-01,  2.60682060e-01, -4.99538361e-02,  4.86939524e-03,\n",
       "       -1.71707969e-01,  1.18694750e-01,  2.26991822e-03, -8.03953238e-02,\n",
       "        3.01180939e-02,  1.26467883e-02,  1.22848163e-01,  4.09935928e-02,\n",
       "       -2.99056226e-02,  4.12971948e-02, -1.56041349e-01,  1.75115746e-01,\n",
       "        1.73161024e-02, -6.33356816e-02,  6.86363450e-02,  4.30940220e-02,\n",
       "        7.60741210e-02, -2.23668631e-01,  3.82775058e-02, -3.18206334e-02,\n",
       "        2.54483435e-02,  8.06682610e-02, -1.32733801e-01, -4.92483266e-02,\n",
       "        8.17070053e-02, -5.09974422e-02, -1.75189935e-01,  3.67907001e-02,\n",
       "        1.29614792e-01,  3.39382277e-02,  1.34330428e-01,  1.16901652e-01,\n",
       "       -7.06518226e-02, -3.28572186e-02, -2.04177748e-02, -1.20729688e-01,\n",
       "       -1.10882480e-02, -7.21330460e-02,  3.37840408e-02, -1.66310023e-01,\n",
       "        2.38948808e-03,  4.14396521e-02,  2.44132218e-01, -3.01444698e-01,\n",
       "       -3.16789611e-02,  1.29665237e-02,  2.32795260e-02,  1.98286874e-01,\n",
       "       -4.17908474e-02,  1.36161266e-02, -1.58239687e-01, -6.72912882e-02,\n",
       "        7.19832747e-02, -1.29104651e-01, -6.15833612e-02, -1.82708404e-02,\n",
       "       -9.94039435e-02,  1.73835252e-02, -9.34317805e-02,  4.44419593e-02,\n",
       "        4.54596587e-02, -9.27607092e-02, -1.70495387e-01, -2.94007627e-02,\n",
       "        6.81044793e-02, -6.22848630e-02, -3.86661693e-02, -2.04345114e-01,\n",
       "       -7.56824219e-02,  1.47311174e-02, -1.18488152e-01,  1.85773346e-02,\n",
       "        3.25735684e-01,  4.78634677e-02, -1.95068448e-01, -1.02644608e-01,\n",
       "       -6.44788453e-02, -2.04829370e-02,  9.03947365e-02,  4.31595810e-02,\n",
       "        7.16860162e-02, -1.04928645e-01, -4.12730186e-02,  9.24959557e-02,\n",
       "       -1.90632842e-01,  7.28579363e-02,  5.10208188e-02, -8.55024969e-02,\n",
       "        7.87860693e-02, -1.49710003e-01,  4.23895884e-02, -6.74006233e-02,\n",
       "        1.33124741e-01,  1.69770893e-02,  9.70652492e-02,  1.46744329e-01,\n",
       "       -1.19937653e-01,  1.15741818e-01,  2.11561453e-01,  5.43765482e-02,\n",
       "        6.47865087e-02,  1.25581703e-01, -1.08465419e-01, -1.26239911e-03,\n",
       "       -4.60675014e-02,  1.67203716e-01, -4.93210665e-02, -2.54174666e-02,\n",
       "       -1.41319779e-01,  7.24997747e-02,  3.96795576e-02,  2.03260769e-02,\n",
       "       -9.63577974e-03,  6.26303865e-02,  7.68602252e-02, -2.24956684e-03,\n",
       "        5.50349355e-02,  1.45197192e-01, -2.25154332e-02, -1.20793833e-01,\n",
       "       -4.42761439e-02,  4.73425654e-02, -5.46204222e-02,  2.10264709e-01,\n",
       "       -5.17390654e-02, -5.89576675e-02, -1.92089000e-01,  1.34241963e-01,\n",
       "        6.96578642e-02, -4.61911235e-03, -2.38891786e-01, -3.90346041e-02,\n",
       "       -5.29297382e-03,  4.18864087e-02,  4.51620376e-03,  2.08604935e-01,\n",
       "       -6.56600372e-02,  6.20796952e-02, -9.17994855e-03,  8.95240248e-02,\n",
       "        2.97731404e-02, -1.16534919e-01, -1.30457321e-02,  1.70095823e-01,\n",
       "        1.36468503e-02,  4.91129878e-04,  1.44174346e-01,  1.22812343e-01,\n",
       "       -2.24604197e-02, -1.78371517e-02, -6.69908458e-02, -2.57447035e-02,\n",
       "       -1.86144418e-02,  3.83043271e-02, -1.42488403e-01, -1.82756326e-02,\n",
       "        5.38187003e-02, -5.31738176e-02, -1.03745103e-01,  2.37972431e-02,\n",
       "       -2.27880528e-02,  2.27493184e-02, -1.07304388e-01, -5.39483327e-02,\n",
       "       -1.57151160e-01, -9.60605932e-02, -1.49916088e-01,  2.48725034e-02,\n",
       "        2.89560343e-02,  2.77228561e-02, -1.03733635e-01, -2.02517385e-02,\n",
       "        7.86177948e-02,  7.34774730e-02, -3.54158555e-02,  1.33787205e-01,\n",
       "        2.22062587e-01, -1.84392066e-02, -1.48532818e-01, -1.01929046e-01,\n",
       "        8.27134294e-02, -1.71388864e-02,  4.13754973e-02,  1.98790500e-02,\n",
       "       -2.28897701e-01, -2.82693569e-02, -1.25314048e-01, -1.61208833e-02,\n",
       "       -1.06787003e-01,  3.02126373e-02, -6.43418236e-02, -1.14242917e-01,\n",
       "       -2.15779731e-01, -1.47505045e-01, -4.19295486e-02, -1.63260173e-01,\n",
       "        1.57362584e-01, -1.73607210e-01,  6.21063363e-02,  9.58161915e-02,\n",
       "        4.58473254e-02, -1.17574447e-02, -4.94423813e-02,  1.07217463e-01,\n",
       "       -1.71526551e-01, -1.52844252e-01,  8.94156961e-02,  1.06141235e-01,\n",
       "        3.62815090e-02,  2.28713520e-02, -4.36619193e-02, -4.90053665e-04,\n",
       "        7.61123715e-04, -2.33876878e-02,  2.09876927e-02,  4.53826913e-02,\n",
       "        7.45127664e-02, -2.83966677e-02, -2.90001394e-02,  2.91399218e-03,\n",
       "       -1.76813577e-01, -3.86816024e-02, -9.84351545e-02, -8.24527674e-02,\n",
       "       -1.15175964e-01,  1.52915166e-01,  3.61112270e-02, -3.88393533e-02,\n",
       "       -1.75082281e-02, -2.76774029e-02, -1.09700485e-01, -1.71950650e-01,\n",
       "       -6.59609380e-02,  8.01444156e-02,  5.36525415e-02,  1.60971146e-02,\n",
       "        2.77327211e-01, -8.58217277e-02,  7.53479091e-02, -7.84840667e-02,\n",
       "        1.28603933e-02,  9.15764326e-03, -5.79474318e-02,  3.02194913e-02,\n",
       "       -6.14833977e-02, -1.38812133e-01,  1.59644495e-01, -4.76966120e-04,\n",
       "        3.82743968e-02,  8.43510660e-02,  6.09799091e-02, -2.19385042e-02,\n",
       "        2.38353352e-03,  2.65242088e-01,  1.43159161e-01, -1.90926394e-01,\n",
       "       -5.94678190e-02, -7.61511487e-02, -1.10058317e-01, -2.84424723e-03,\n",
       "       -7.55251313e-02,  1.08662846e-01, -1.17508392e-01, -1.42562446e-03,\n",
       "       -7.10371129e-02,  7.33674757e-02,  2.80212416e-02,  6.59090264e-03,\n",
       "       -1.36546481e-02, -8.76421246e-02,  8.39654097e-02, -4.11923612e-02,\n",
       "        1.13834248e-02, -6.22548090e-02, -4.41336678e-02,  1.55066099e-03,\n",
       "       -4.17890508e-02, -7.08473897e-02,  1.05367533e-01,  4.38950238e-02,\n",
       "       -1.06419939e-01,  2.22827006e-01, -9.65693901e-02, -1.16543435e-02,\n",
       "        4.57710055e-02, -1.03089737e-02,  9.61722942e-02, -2.06192232e-01,\n",
       "        1.46207758e-01, -6.75910328e-02,  1.24815392e-01,  1.59023432e-01,\n",
       "        1.62149053e-01, -1.43254159e-01, -2.29699938e-01,  1.02363798e-01,\n",
       "       -1.09575098e-01, -1.03731782e-02,  1.06943894e-01, -1.16176462e-01,\n",
       "       -3.89735040e-02,  1.04516178e-01,  2.16936434e-01, -1.27227804e-01,\n",
       "        1.80095947e-01, -3.80957018e-03,  6.05855339e-02,  1.14533641e-01,\n",
       "       -1.59067190e-02,  5.97366649e-02, -1.16753738e-01, -7.80085812e-02,\n",
       "       -2.20373417e-02, -4.02996903e-03,  4.88734070e-02,  5.27529996e-02,\n",
       "        1.86198153e-01, -1.76758773e-01, -6.90584326e-02, -7.58229121e-02,\n",
       "       -1.08852325e-01, -6.47124746e-02, -5.40877132e-03, -7.78966616e-03,\n",
       "       -5.10887671e-02, -1.56486401e-02, -1.73909039e-02, -5.36751852e-02,\n",
       "       -3.09166166e-02,  2.64182557e-02,  6.44608709e-02,  1.41325659e-01,\n",
       "        1.30117174e-01,  3.39479296e-02,  1.42105585e-01,  1.06650715e-01,\n",
       "       -8.33771174e-02,  3.74261675e-02,  1.34148647e-01,  2.20565626e-02,\n",
       "       -2.01488952e-02, -1.25397921e-03,  1.44537440e-01,  1.61410001e-01,\n",
       "        2.03866736e-01,  1.78337378e-01, -7.84838715e-02,  2.75116353e-02,\n",
       "        7.71080952e-02,  8.54344516e-02, -8.62580437e-03,  1.36171244e-01,\n",
       "       -2.39421512e-02,  7.84407700e-03,  7.06781391e-02,  1.04679208e-01,\n",
       "       -3.14187768e-02,  1.11335402e-01,  6.79455884e-04,  9.30339486e-02,\n",
       "        9.79196896e-02, -3.95854229e-03, -1.13638246e-01,  3.62534039e-02,\n",
       "       -2.62105480e-02,  9.59630533e-02, -4.17379269e-02, -2.71023357e-02,\n",
       "        5.93750236e-03, -1.05258417e-02,  8.38120482e-03, -9.14955116e-02,\n",
       "       -8.06124956e-02,  1.24641696e-02, -5.73780473e-02, -7.33227051e-02,\n",
       "       -4.43928267e-02,  4.70739017e-02, -1.60806443e-01,  2.28313094e-02,\n",
       "        1.48378748e-01,  2.21355970e-01,  7.87351034e-02,  1.40006778e-02,\n",
       "       -8.70972930e-02, -2.25772435e-01, -5.89339000e-02,  8.88655226e-02,\n",
       "        3.02529527e-02, -5.48963113e-02,  3.13680408e-02,  7.58127627e-02,\n",
       "       -9.54095408e-02, -7.39916345e-03, -6.99209428e-02,  1.66658332e-02,\n",
       "        6.20839571e-02,  5.79334498e-02, -5.61630489e-02, -7.97981384e-02,\n",
       "       -1.66182876e-01, -1.11430530e-01, -3.71928508e-02, -1.25087437e-02,\n",
       "        1.44340459e-01,  1.80236929e-01,  1.10233062e-01,  1.69001308e-02,\n",
       "        1.53727905e-02,  1.84196771e-02, -1.90568757e-01, -5.98074732e-02,\n",
       "        6.78331096e-02, -2.21119628e-02,  4.25049153e-02, -5.79615678e-02,\n",
       "        1.67527967e-01,  2.96007978e-02, -1.41851690e-01, -9.23502575e-02,\n",
       "       -4.33107887e-02,  8.31159567e-02,  1.21207531e-01,  2.33498545e-02,\n",
       "       -6.83009992e-02,  1.25558096e-01,  1.56812484e-02,  1.23150578e-01,\n",
       "       -1.46332841e-01, -1.56954938e-02, -5.93892235e-02, -1.34669683e-02,\n",
       "        3.99340822e-02, -1.56172777e-02,  3.42711766e-02,  2.77544562e-02,\n",
       "        5.50766449e-02, -4.77249223e-02,  4.90322579e-02, -1.40193818e-01,\n",
       "       -4.79531560e-02,  9.49939317e-03,  3.61808125e-02,  1.13430250e-02,\n",
       "        1.90281678e-01, -9.36178935e-03, -1.67750524e-02,  8.22359268e-02,\n",
       "        1.03253785e-01,  8.80331936e-02,  1.71478564e-02,  4.55617959e-02,\n",
       "       -4.24213152e-02, -4.86423175e-02, -5.65517902e-02,  1.07136301e-01,\n",
       "        1.91759173e-03, -4.21722550e-02,  1.85743436e-01,  1.46537751e-01,\n",
       "        1.31038091e-01, -1.38454973e-01,  2.73856682e-02, -2.48449991e-02,\n",
       "        3.55526953e-02,  3.16267167e-02,  1.57936063e-01,  1.70638043e-01,\n",
       "        2.54297547e-02,  2.56859125e-01,  1.21299354e-02,  1.89608505e-01,\n",
       "        5.80111131e-02,  4.81941165e-02, -9.89646474e-02, -1.15830871e-01,\n",
       "        7.14960496e-02,  7.49530865e-02, -4.28010350e-02,  2.07558730e-01,\n",
       "       -1.40924720e-01,  1.73707937e-02,  2.01560350e-01, -2.88030373e-02,\n",
       "        7.38726931e-02,  7.51409810e-03,  1.78122571e-02,  9.33633404e-02,\n",
       "       -6.33800587e-02,  1.47134378e-01, -4.85711113e-02, -7.46322270e-02,\n",
       "        2.31811292e-02,  2.87376972e-02,  6.56729293e-03,  1.12080390e-02,\n",
       "        6.37444435e-03,  7.38219164e-02, -1.13989046e-01, -1.09422616e-02,\n",
       "       -1.24003898e-01, -1.39233484e-01, -6.48204720e-02,  6.07311169e-02,\n",
       "        2.12959952e-02,  3.02706073e-02, -1.87478938e-02, -1.47505417e-01,\n",
       "        2.87939539e-02,  7.05420890e-02,  1.22397017e-02,  1.06710869e-01,\n",
       "       -9.25388181e-02, -6.45741744e-02, -5.38167151e-02,  7.76612277e-02,\n",
       "       -1.15872445e-01, -2.13714039e-02, -1.00514842e-01, -1.34275097e-01,\n",
       "        1.79248158e-01,  6.14158791e-02,  2.50842699e-01, -2.13345230e-02,\n",
       "        6.67079409e-02,  5.20582800e-02,  3.57238443e-03, -6.10938989e-02,\n",
       "        1.49974643e-01,  8.96117979e-02, -3.49655113e-02,  8.19962479e-02,\n",
       "        1.09186783e-01, -6.52562098e-03, -1.12908706e-01,  1.50272165e-01,\n",
       "        4.72679620e-02, -7.06444516e-03, -7.61926051e-02, -2.02671432e-02,\n",
       "        6.26530495e-02,  5.89729371e-02, -1.07099086e-01, -1.03317370e-01,\n",
       "       -8.00327941e-02,  1.51104344e-01, -1.65422649e-01, -1.21098428e-02,\n",
       "        2.22787891e-03,  3.22862080e-02, -3.61258593e-02,  4.69820918e-02,\n",
       "        1.64585287e-01,  1.48908051e-01,  6.70628626e-02,  6.30875974e-03,\n",
       "        1.76884522e-02, -9.52062426e-02,  1.25613279e-03,  5.32964520e-03,\n",
       "        4.75750304e-02, -2.67708939e-02,  1.25549017e-01, -5.48257444e-02,\n",
       "        1.65661062e-02,  2.56436883e-01,  5.54510544e-02, -4.25597382e-02,\n",
       "       -4.91831055e-02, -1.11317360e-02,  2.76154500e-02, -3.85525413e-02,\n",
       "        2.13982992e-02,  1.33525032e-01,  3.72551303e-02,  8.56323957e-02,\n",
       "       -6.69960724e-02,  1.08809110e-01,  1.59084454e-01,  3.39335991e-02,\n",
       "       -1.10030565e-01, -2.25753787e-02, -7.96042631e-02,  8.64773419e-02,\n",
       "       -9.37525147e-02,  1.11674428e-01,  1.91417468e-01,  2.82252727e-02,\n",
       "       -5.29521810e-02, -1.94816814e-01, -1.83082149e-02,  2.07575942e-01,\n",
       "        1.53947564e-01, -2.52009490e-02, -1.08021543e-01,  6.37994683e-02,\n",
       "       -1.84557552e-02,  9.80016843e-02, -1.86602676e-01, -1.09641807e-01,\n",
       "        3.07557489e-02,  5.17452287e-03, -4.33608426e-03, -5.13348353e-02,\n",
       "       -1.63500506e-02, -1.39866328e-02,  2.21902333e-04,  1.28063799e-02,\n",
       "       -2.59155023e-01, -7.74894190e-02, -1.53246854e-01, -1.69091511e-01,\n",
       "        1.10233793e-01,  1.19116265e-01,  1.95176839e-02,  1.85875525e-01,\n",
       "        1.16637802e-01,  4.04037073e-02,  1.14622893e-01, -2.12786439e-02,\n",
       "       -8.73619869e-02, -1.31866274e-01,  6.64461569e-02,  2.10775050e-01,\n",
       "       -9.44474781e-02, -1.10169765e-01,  6.00545527e-02, -1.65850723e-01,\n",
       "        2.38380961e-02,  5.03331520e-02,  7.02987678e-02,  4.47175658e-02,\n",
       "       -6.83062892e-02,  5.98682932e-02,  6.44921724e-02, -3.66521849e-02])"
      ]
     },
     "execution_count": 31,
     "metadata": {},
     "output_type": "execute_result"
    }
   ],
   "source": [
    "# imprimimos en pantalla el vector correspondiente\n",
    "normal_sample"
   ]
  },
  {
   "cell_type": "markdown",
   "metadata": {},
   "source": [
    "## Visualizaciones con librerías Matplotlib y Seaborn\n",
    "Ambas son para realizar visualizaciones. Existen muchas formas de visualizar datos estructurados en un vector o matriz. Los mas comunes son los histogramas, los mapas de calor, etc."
   ]
  },
  {
   "cell_type": "code",
   "execution_count": 32,
   "metadata": {
    "collapsed": true
   },
   "outputs": [],
   "source": [
    "# importamos las librerias que nos serviran para visualizar\n",
    "import matplotlib.pyplot as plt\n",
    "import seaborn as sns"
   ]
  },
  {
   "cell_type": "markdown",
   "metadata": {},
   "source": [
    "Con \"sns.distplot()\" seaborn nos permite poder realizar un histograma y una aproximacion a la distribución de los datos en cuestion. En este caso realizaremos el distplot con el vector \"normal_sample\"."
   ]
  },
  {
   "cell_type": "code",
   "execution_count": 33,
   "metadata": {
    "collapsed": false
   },
   "outputs": [
    {
     "data": {
      "image/png": "[encoded data removed]",
      "text/plain": [
       "<Figure size 432x288 with 1 Axes>"
      ]
     },
     "metadata": {
      "needs_background": "light"
     },
     "output_type": "display_data"
    }
   ],
   "source": [
    "# generamos el distplot\n",
    "sns.distplot(normal_sample)\n",
    "plt.title(\"histograma del vector 'normal_sample' \")\n",
    "plt.xlabel(\"valores de la variable aleatoria muestreada\")\n",
    "plt.ylabel(\"densidad de cada valor muestreado\")\n",
    "plt.show()"
   ]
  },
  {
   "cell_type": "markdown",
   "metadata": {},
   "source": [
    "Creamos otro vector proveniente de una normal con distinta media y desvio standard"
   ]
  },
  {
   "cell_type": "code",
   "execution_count": 34,
   "metadata": {
    "collapsed": true
   },
   "outputs": [],
   "source": [
    "# si generamos otro vector \"normal_sample_2\" con otra media y otro desvio standard\n",
    "mu_2 = 0.5\n",
    "sigma_2 = 0.2\n",
    "# con las variables declaradas generamos un vector de 1000 posiciones\n",
    "# cada posicion es un numero aleatorio extraido de una distribucion normal\n",
    "normal_sample_2 = np.random.normal(mu_2, sigma_2, 1000)"
   ]
  },
  {
   "cell_type": "code",
   "execution_count": 35,
   "metadata": {
    "collapsed": false,
    "scrolled": true
   },
   "outputs": [
    {
     "data": {
      "image/png": "[encoded data removed]",
      "text/plain": [
       "<Figure size 432x288 with 1 Axes>"
      ]
     },
     "metadata": {
      "needs_background": "light"
     },
     "output_type": "display_data"
    }
   ],
   "source": [
    "# generamos el distplot\n",
    "sns.distplot(normal_sample_2)\n",
    "plt.title(\"histograma del vector 'normal_sample_2' \")\n",
    "plt.xlabel(\"valores de la variable aleatoria muestreada\")\n",
    "plt.ylabel(\"densidad de cada valor muestreado\")\n",
    "plt.show()"
   ]
  },
  {
   "cell_type": "markdown",
   "metadata": {},
   "source": [
    "Podriamos realizar en un mismo distplot la visualizacion de la densidad de los 2 vectores en simultáneo"
   ]
  },
  {
   "cell_type": "code",
   "execution_count": 36,
   "metadata": {
    "collapsed": false
   },
   "outputs": [
    {
     "data": {
      "image/png": "[encoded data removed]",
      "text/plain": [
       "<Figure size 432x288 with 1 Axes>"
      ]
     },
     "metadata": {
      "needs_background": "light"
     },
     "output_type": "display_data"
    }
   ],
   "source": [
    "# generamos el distplot, en una misma celda de codigo uno debajo del otro\n",
    "# plt.show() imprime toda visualizacion que se haya acumulado en esa celda de codigo \n",
    "sns.distplot(normal_sample,label = \"normal_sample\")\n",
    "sns.distplot(normal_sample_2, label = \"normal_sample2\")\n",
    "plt.title(\"histograma de los dos vectores generados \")\n",
    "plt.xlabel(\"valores de la variable aleatoria muestreada\")\n",
    "plt.ylabel(\"densidad de cada valor muestreado\")\n",
    "plt.legend()\n",
    "plt.show()"
   ]
  },
  {
   "cell_type": "markdown",
   "metadata": {},
   "source": [
    "** Scatter plot ** \n",
    "Si consideramos ambos vectores como coordenadas y cada posicion una muestra (un punto) entonces tenemos 1000 muestras cada una caracterizada por 2 valores (o dimensiones). Dicho esto, podemos entonces visualizar las 1000 muestras caracterizadas por los 2 vectores provenientes cada uno de una distribucion normal con distintos parametros. El scatter plot visualiza nubes de puntos. Seaborn tiene una función para realizar scatter plots."
   ]
  },
  {
   "cell_type": "code",
   "execution_count": 37,
   "metadata": {
    "collapsed": false
   },
   "outputs": [
    {
     "data": {
      "image/png": "[encoded data removed]",
      "text/plain": [
       "<Figure size 432x288 with 1 Axes>"
      ]
     },
     "metadata": {
      "needs_background": "light"
     },
     "output_type": "display_data"
    }
   ],
   "source": [
    "# utilizamos cada vector como una dimension, uno para el eje x y otro para el eje y.\n",
    "sns.scatterplot(x= normal_sample, y= normal_sample_2)\n",
    "plt.title(\"Ejemplo de scatterplot con seaborn\")\n",
    "plt.xlabel(\"valores de normal_sample\")\n",
    "plt.ylabel(\"valores de normal_sample_2\")\n",
    "plt.show()"
   ]
  },
  {
   "cell_type": "markdown",
   "metadata": {
    "collapsed": true
   },
   "source": [
    "Matplotlib es otra libreria que tambien tiene funciones similares, como scatter plot"
   ]
  },
  {
   "cell_type": "code",
   "execution_count": 38,
   "metadata": {
    "collapsed": false
   },
   "outputs": [
    {
     "data": {
      "image/png": "[encoded data removed]",
      "text/plain": [
       "<Figure size 432x288 with 1 Axes>"
      ]
     },
     "metadata": {
      "needs_background": "light"
     },
     "output_type": "display_data"
    }
   ],
   "source": [
    "# con el comando plt.scatter() ingresamos los 2 vectores para visualizar las 1000 muestras.\n",
    "# el parametro \"alpha\" hace traslucidas las muestras que se solapan una encima de otra.\n",
    "plt.scatter(normal_sample, normal_sample_2, alpha = 0.5)\n",
    "plt.title(\"Ejemplo de scatterplot con matplotlib\")\n",
    "plt.xlabel(\"valores de normal_sample\")\n",
    "plt.ylabel(\"valores de normal_sample_2\")\n",
    "plt.show()"
   ]
  },
  {
   "cell_type": "markdown",
   "metadata": {
    "collapsed": true
   },
   "source": [
    "# Librería Pandas: Gestion de datos estructurados (tablas)\n",
    "Pandas es una importante libreria de python para manipular datos que esten en un formato de tablas (.csv, .txt, .xls). Con Pandas podremos importar datos obtenidos en los formatos mencionados, por ejemplo el portal de datos abiertos de la Ciudad de Buenos Aires. Puntualmente trabajaremos con los datos de Matrimonios del 2018 obtenidos del siguiente enlace https://data.buenosaires.gob.ar/dataset/matrimonios.\n",
    "Una vez que descargues el dataset de matrimonios 2018 guardalo en alguna carpeta de tu computadora y con click derecho \"propiedades\" fijate cual es la ruta de carpetas donde esta alojado el archivo .csv que descargaste."
   ]
  },
  {
   "cell_type": "code",
   "execution_count": 39,
   "metadata": {
    "collapsed": true
   },
   "outputs": [],
   "source": [
    "# importamos la libreria pandas\n",
    "import pandas as pd"
   ]
  },
  {
   "cell_type": "markdown",
   "metadata": {},
   "source": [
    "El comando de pandas \"pd.read_csv\" permite importar archivos .csv alojados en la computadora  a jupyter. El archivo sera importado como una tabla con renglones (rows) y columnas (columns). A las tablas generadas desde Pandas las llamamos \"DataFrame\". Ver que el parametro que solicita el comando \"pd.read_csv()\" es la ruta de la carpeta donde esta alojado el archivo (la ruta incluye el nombre del archivo). Eso quiere decir que una vez que descarguen el archivo, lo guardaran en alguna carpeta que creas conveniente y luego obtendrás la ruta. \n",
    "\n",
    "**Aclaración usuarios windows:** en algunos casos de usuarios con windows, muchas veces se genera un error y es necesario agregar la letra \"r\" antes de la ruta (algo asi como pd.read_csv(r'Ruta donde el CSV esta guardado\\nombre.csv')). Para mas información ver como importar archivos .csv en windows desde este blogpost https://datatofish.com/import-csv-file-python-using-pandas/"
   ]
  },
  {
   "cell_type": "code",
   "execution_count": 40,
   "metadata": {
    "collapsed": false
   },
   "outputs": [],
   "source": [
    "# importamos el archivo \"matrimonios_2018.csv\" y lo guardamos en la variable \"matrimonios\".\n",
    "matrimonios = pd.read_csv('/home/martin/Dropbox/clusterai/clase_00/matrimonios_2018.csv', header = 0)"
   ]
  },
  {
   "cell_type": "code",
   "execution_count": 41,
   "metadata": {
    "collapsed": false
   },
   "outputs": [
    {
     "data": {
      "text/plain": [
       "pandas.core.frame.DataFrame"
      ]
     },
     "execution_count": 41,
     "metadata": {},
     "output_type": "execute_result"
    }
   ],
   "source": [
    "# averiguamos que tipo de variable es matrimonios: un DataFrame de Pandas.\n",
    "type(matrimonios)"
   ]
  },
  {
   "cell_type": "code",
   "execution_count": 42,
   "metadata": {
    "collapsed": false
   },
   "outputs": [
    {
     "data": {
      "text/plain": [
       "(11732, 4)"
      ]
     },
     "execution_count": 42,
     "metadata": {},
     "output_type": "execute_result"
    }
   ],
   "source": [
    "# Con np.shape() nos fijamos que dimension tiene el archivo (renglones, columnas)\n",
    "np.shape(matrimonios)"
   ]
  },
  {
   "cell_type": "markdown",
   "metadata": {},
   "source": [
    "Al DataFrame \"matrimonios\" podemos solicitarle información como visualizar los primeros renglones agregando al nombre del dataframe el comando \".head()\". Por default aparecen 5 renglones. Observaremos que además del contenido de cada registro de matrimonio, el dataframe se caracteriza por tener un indice (el nombre de cada renglon) y columnas (cada columna tiene un nombre)."
   ]
  },
  {
   "cell_type": "code",
   "execution_count": 43,
   "metadata": {
    "collapsed": false
   },
   "outputs": [
    {
     "data": {
      "text/html": [
       "<div>\n",
       "<style scoped>\n",
       "    .dataframe tbody tr th:only-of-type {\n",
       "        vertical-align: middle;\n",
       "    }\n",
       "\n",
       "    .dataframe tbody tr th {\n",
       "        vertical-align: top;\n",
       "    }\n",
       "\n",
       "    .dataframe thead th {\n",
       "        text-align: right;\n",
       "    }\n",
       "</style>\n",
       "<table border=\"1\" class=\"dataframe\">\n",
       "  <thead>\n",
       "    <tr style=\"text-align: right;\">\n",
       "      <th></th>\n",
       "      <th>fecha_matrimonio</th>\n",
       "      <th>genero_1</th>\n",
       "      <th>genero_2</th>\n",
       "      <th>comuna</th>\n",
       "    </tr>\n",
       "  </thead>\n",
       "  <tbody>\n",
       "    <tr>\n",
       "      <th>0</th>\n",
       "      <td>2018-01-02</td>\n",
       "      <td>Masculino</td>\n",
       "      <td>Femenino</td>\n",
       "      <td>1</td>\n",
       "    </tr>\n",
       "    <tr>\n",
       "      <th>1</th>\n",
       "      <td>2018-01-02</td>\n",
       "      <td>Masculino</td>\n",
       "      <td>Femenino</td>\n",
       "      <td>12</td>\n",
       "    </tr>\n",
       "    <tr>\n",
       "      <th>2</th>\n",
       "      <td>2018-01-02</td>\n",
       "      <td>Masculino</td>\n",
       "      <td>Femenino</td>\n",
       "      <td>12</td>\n",
       "    </tr>\n",
       "    <tr>\n",
       "      <th>3</th>\n",
       "      <td>2018-01-02</td>\n",
       "      <td>Femenino</td>\n",
       "      <td>Masculino</td>\n",
       "      <td>12</td>\n",
       "    </tr>\n",
       "    <tr>\n",
       "      <th>4</th>\n",
       "      <td>2018-01-02</td>\n",
       "      <td>Masculino</td>\n",
       "      <td>Femenino</td>\n",
       "      <td>7</td>\n",
       "    </tr>\n",
       "  </tbody>\n",
       "</table>\n",
       "</div>"
      ],
      "text/plain": [
       "  fecha_matrimonio   genero_1   genero_2  comuna\n",
       "0       2018-01-02  Masculino   Femenino       1\n",
       "1       2018-01-02  Masculino   Femenino      12\n",
       "2       2018-01-02  Masculino   Femenino      12\n",
       "3       2018-01-02   Femenino  Masculino      12\n",
       "4       2018-01-02  Masculino   Femenino       7"
      ]
     },
     "execution_count": 43,
     "metadata": {},
     "output_type": "execute_result"
    }
   ],
   "source": [
    "# con .head() visualizamos los primeros 5 renglones del dataframe.\n",
    "matrimonios.head()"
   ]
  },
  {
   "cell_type": "code",
   "execution_count": 44,
   "metadata": {
    "collapsed": false
   },
   "outputs": [
    {
     "data": {
      "text/plain": [
       "Index(['fecha_matrimonio', 'genero_1', 'genero_2', 'comuna'], dtype='object')"
      ]
     },
     "execution_count": 44,
     "metadata": {},
     "output_type": "execute_result"
    }
   ],
   "source": [
    "# podemos tambien acceder al listado de columnas \n",
    "matrimonios.columns"
   ]
  },
  {
   "cell_type": "code",
   "execution_count": 45,
   "metadata": {
    "collapsed": false
   },
   "outputs": [
    {
     "data": {
      "text/plain": [
       "RangeIndex(start=0, stop=11732, step=1)"
      ]
     },
     "execution_count": 45,
     "metadata": {},
     "output_type": "execute_result"
    }
   ],
   "source": [
    "# tambien podemos acceder al vector de indices\n",
    "matrimonios.index"
   ]
  },
  {
   "cell_type": "markdown",
   "metadata": {},
   "source": [
    "el vector de indices es impreso en pantalla como un elemento \"RangeIndex\" con comienzo en 0 y fin en 11732, que equivale a la cantidad de renglones. Python en algunos casos en vez de imprimir literalmente un vector que vaya de 0 a 11732 con incrementos de +1, utiliza el formato \"range\" indicando el inicio, fin y el \"paso\" entre cada registro."
   ]
  },
  {
   "cell_type": "markdown",
   "metadata": {},
   "source": [
    "** Seleccionar columnas especificas del dataframe de Pandas ** \n",
    "Supongamos que tenemos interes en la columna \"comunas\". Nombrando \"matrimonios.comuna\" o \"matrimonios['comuna'] seleccionaremos la columna en cuestion. A esa columna seleccionada podemos guardarla en una variable nueva llamada \"comunas\". Luego con la variable \"comunas\" realizaremos una visualización."
   ]
  },
  {
   "cell_type": "code",
   "execution_count": 46,
   "metadata": {
    "collapsed": false
   },
   "outputs": [],
   "source": [
    "# Seleccionamos la columna \"comuna\" y la guardamos en la variable \"comunas\".\n",
    "comunas = matrimonios.comuna"
   ]
  },
  {
   "cell_type": "code",
   "execution_count": 47,
   "metadata": {
    "collapsed": false
   },
   "outputs": [
    {
     "data": {
      "text/plain": [
       "pandas.core.series.Series"
      ]
     },
     "execution_count": 47,
     "metadata": {},
     "output_type": "execute_result"
    }
   ],
   "source": [
    "# observamos que \"comunas\" es tambien un elemento de Pandas. \n",
    "# Sin embargo, solo contiene indices (es algo similar a un vector) y su tipo es \"Series\".\n",
    "type(comunas)"
   ]
  },
  {
   "cell_type": "markdown",
   "metadata": {},
   "source": [
    "Seaborn tambien posee el comando \"countplot\", que cuenta la cantidad de registros con un determinado valor dentro de un dataframe de pandas (mismo en un numpy array). En este caso con \"countplot\" vamos a contar cuantas veces cada columna aparece dentro de \"comunas\"."
   ]
  },
  {
   "cell_type": "code",
   "execution_count": 48,
   "metadata": {
    "collapsed": false
   },
   "outputs": [
    {
     "data": {
      "image/png": "[encoded data removed]",
      "text/plain": [
       "<Figure size 432x288 with 1 Axes>"
      ]
     },
     "metadata": {
      "needs_background": "light"
     },
     "output_type": "display_data"
    }
   ],
   "source": [
    "# realizamos un countplot de seaborn en el pandas \"comunas\".\n",
    "sns.countplot(comunas)\n",
    "plt.title(\"Cantidad de matrimonios por comuna durante 2018\")\n",
    "plt.show()"
   ]
  },
  {
   "cell_type": "markdown",
   "metadata": {},
   "source": [
    "# Funciones en python\n",
    "Supongamos que queremos utilizar muchas veces un mismo segmento de codigo. En vez de repetirlo multiples veces, podemos crear funciones de python. Cada vez que necesitamos realizar dicha acción llamamos a la función. Vamos a crear una función para imprimir el valor de una posición dentro de un pandas dataframe."
   ]
  },
  {
   "cell_type": "code",
   "execution_count": 54,
   "metadata": {
    "collapsed": true
   },
   "outputs": [],
   "source": [
    "# Las funciones deben declararse con \"def + nombre de la funcion\" y entre (input)\n",
    "def imprimir_comuna(dato):\n",
    "    return print(\"La comuna es \" + str(dato))"
   ]
  },
  {
   "cell_type": "markdown",
   "metadata": {},
   "source": [
    "Podriamos usar la función definida para situaciones puntuales, por ejemplo para el tercer registro del dataframe \"comunas\". Recordemos que si hablamos del tercer elemento entonces su indice será el 2, ya que en Python los índices comienzan en 0."
   ]
  },
  {
   "cell_type": "code",
   "execution_count": 55,
   "metadata": {
    "collapsed": false
   },
   "outputs": [
    {
     "name": "stdout",
     "output_type": "stream",
     "text": [
      "La comuna es 12\n"
     ]
    }
   ],
   "source": [
    "imprimir_comuna(comunas[2])"
   ]
  },
  {
   "cell_type": "markdown",
   "metadata": {},
   "source": [
    "# For loops\n",
    "Muchas veces vamos a necesitar iterar sobre una matriz o vector para realizar alguna operación particular. Esto se puede lograr mediante los loops \"for\". El mismo debe definir un elemento iterador que cambiará de valor en cada paso del loop. En el ejemplo el iterador será la variable \"i\" y su rango de iteración será desde 0 a 4. El rango va de 0 a 5 indicando el valor de comienzo y el valor final-1 (así es la sintaxis de python)."
   ]
  },
  {
   "cell_type": "code",
   "execution_count": 56,
   "metadata": {
    "collapsed": false
   },
   "outputs": [
    {
     "name": "stdout",
     "output_type": "stream",
     "text": [
      "La comuna es 1\n",
      "La comuna es 12\n",
      "La comuna es 12\n",
      "La comuna es 12\n",
      "La comuna es 7\n"
     ]
    }
   ],
   "source": [
    "for i in range(0,5):\n",
    "    imprimir_comuna(comunas[i])"
   ]
  },
  {
   "cell_type": "markdown",
   "metadata": {},
   "source": [
    "De esta manera generamos un loop de 5 iteraciones que imprime el valor de la comuna en la posicion \"i\" del vector \"comunas\""
   ]
  },
  {
   "cell_type": "markdown",
   "metadata": {},
   "source": [
    "**Lo lograste!**\n",
    "Si llegaste a este punto quiere decir que pudiste ejecutar:\n",
    "- Abrir un Jupyter notebook exitosamente.\n",
    "- Operaciones básicas en Python como print o suma.\n",
    "- Utilizar Numpy para crear arrays y realizar operaciones con ellos.\n",
    "- Utilizar Numpy para crear vectores provenientes de distribuciones normales de probabilidad.\n",
    "- Visualización con matplotlib y seaborn para hacer Scatter, Distplot, Countplot.\n",
    "- Importar archivos .csv con Pandas\n",
    "- Filtrar por columnas con Pandas\n",
    "- Crear funciones de Python\n",
    "- Generar for loops"
   ]
  },
  {
   "cell_type": "markdown",
   "metadata": {},
   "source": [
    "** Como seguir: **Queda mucho por hacer aunque lograr ejecutar este notebook fue un gran logro. Te invitamos a que trates de comprender el paso a paso, amigarte con la sintaxis y modificar algunas variables clave en cada ejercicio para obtener otros resultados. "
   ]
  }
 ],
 "metadata": {
  "kernelspec": {
   "display_name": "Python 3",
   "language": "python",
   "name": "python3"
  },
  "language_info": {
   "codemirror_mode": {
    "name": "ipython",
    "version": 3
   },
   "file_extension": ".py",
   "mimetype": "text/x-python",
   "name": "python",
   "nbconvert_exporter": "python",
   "pygments_lexer": "ipython3",
   "version": "3.6.8"
  }
 },
 "nbformat": 4,
 "nbformat_minor": 2
}
